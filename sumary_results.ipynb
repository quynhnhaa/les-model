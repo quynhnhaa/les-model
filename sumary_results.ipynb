{
 "cells": [
  {
   "cell_type": "code",
   "execution_count": 1,
   "id": "1349ff6d",
   "metadata": {},
   "outputs": [
    {
     "name": "stdout",
     "output_type": "stream",
     "text": [
      "pipeline_a_test_results_seed42.csv mean Dice score of 0.8984, 0.8120, and 0.7595, and Hausdorff distance (95%) of 35.170, 35.170, and 21.706 for the whole tumor, tumor core, and enhancing tumor, respectively\n"
     ]
    }
   ],
   "source": [
    "#!/usr/bin/env python3\n",
    "\"\"\"\n",
    "  Summarize mean Dice and 95th percentile Hausdorff distance per label (WT, TC, ET)\n",
    "  from pipeline_a_test_results/pipeline_a_test_results_seed42.csv and print a\n",
    "  one-line summary in the requested format.\n",
    "\n",
    "  Usage:\n",
    "      python /scripts/summarize_pipeline_a_seed42.py \\\n",
    "        --csv pipeline_a_test_results/pipeline_a_test_results_seed42.csv\n",
    "\"\"\"\n",
    "from __future__ import annotations\n",
    "\n",
    "import argparse\n",
    "from pathlib import Path\n",
    "import numpy as np\n",
    "import pandas as pd\n",
    "\n",
    "\n",
    "def compute_summary(csv_path: Path) -> str:\n",
    "    df = pd.read_csv(csv_path)\n",
    "\n",
    "    # Coerce numeric columns and handle missing/invalid values\n",
    "    for col in (\"haussdorf\", \"dice\", \"sens\", \"spec\"):\n",
    "      if col in df.columns:\n",
    "        df[col] = pd.to_numeric(df[col], errors=\"coerce\")\n",
    "\n",
    "    # Keep only rows for the three standard labels\n",
    "    valid_labels = [\"WT\", \"TC\", \"ET\"]\n",
    "    df = df[df[\"label\"].isin(valid_labels)].copy()\n",
    "\n",
    "    def agg_for_label(label: str) -> tuple[float, float]:\n",
    "      d = df[df[\"label\"] == label]\n",
    "\n",
    "      # Mean Dice (ignore NaN)\n",
    "      mean_dice = float(d[\"dice\"].mean(skipna=True))\n",
    "\n",
    "      # 95th percentile of Hausdorff across cases:\n",
    "      # - drop NaN\n",
    "      # - drop non-positive values (0 often appears as placeholder for invalid HD)\n",
    "      hd = d[\"haussdorf\"].dropna()\n",
    "      hd = hd[hd > 0]\n",
    "      if len(hd) == 0:\n",
    "        hd95 = float(\"nan\")\n",
    "      else:\n",
    "        hd95 = float(np.percentile(hd.to_numpy(), 95))\n",
    "      return mean_dice, hd95\n",
    "\n",
    "    wt_dice, wt_hd95 = agg_for_label(\"WT\")\n",
    "    tc_dice, tc_hd95 = agg_for_label(\"TC\")\n",
    "    et_dice, et_hd95 = agg_for_label(\"ET\")\n",
    "\n",
    "    # Build the requested sentence, keeping the order: WT, TC, ET\n",
    "    fn = Path(csv_path).name\n",
    "    summary = (\n",
    "      f\"{fn} mean Dice score of \"\n",
    "      f\"{wt_dice:.4f}, {tc_dice:.4f}, and {et_dice:.4f}, \"\n",
    "      f\"and Hausdorff distance (95%) of \"\n",
    "      f\"{wt_hd95:.3f}, {tc_hd95:.3f}, and {et_hd95:.3f} \"\n",
    "      f\"for the whole tumor, tumor core, and enhancing tumor, respectively\"\n",
    "    )\n",
    "    return summary\n",
    "def main():\n",
    "    file_path = \"pipeline_a_test_results/pipeline_a_test_results_seed42.csv\"\n",
    "    print(compute_summary(file_path))\n",
    "\n",
    "\n",
    "if __name__ == \"__main__\":\n",
    "    main()"
   ]
  }
 ],
 "metadata": {
  "kernelspec": {
   "display_name": "Python 3",
   "language": "python",
   "name": "python3"
  },
  "language_info": {
   "codemirror_mode": {
    "name": "ipython",
    "version": 3
   },
   "file_extension": ".py",
   "mimetype": "text/x-python",
   "name": "python",
   "nbconvert_exporter": "python",
   "pygments_lexer": "ipython3",
   "version": "3.12.0"
  }
 },
 "nbformat": 4,
 "nbformat_minor": 5
}
